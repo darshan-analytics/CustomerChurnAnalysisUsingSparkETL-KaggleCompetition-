{
  "nbformat": 4,
  "nbformat_minor": 0,
  "metadata": {
    "colab": {
      "name": "CustomerChurnAnalysisUsingSparkETL(KaggleCompetition).ipynb",
      "provenance": [],
      "authorship_tag": "ABX9TyOWqQ26aGuEc8Px95MVu/qc",
      "include_colab_link": true
    },
    "kernelspec": {
      "name": "python3",
      "display_name": "Python 3"
    }
  },
  "cells": [
    {
      "cell_type": "markdown",
      "metadata": {
        "id": "view-in-github",
        "colab_type": "text"
      },
      "source": [
        "<a href=\"https://colab.research.google.com/github/darshan-analytics/CustomerChurnAnalysisUsingSparkETL-KaggleCompetition-/blob/main/CustomerChurnAnalysisUsingSparkETL(KaggleCompetition).ipynb\" target=\"_parent\"><img src=\"https://colab.research.google.com/assets/colab-badge.svg\" alt=\"Open In Colab\"/></a>"
      ]
    },
    {
      "cell_type": "code",
      "metadata": {
        "colab": {
          "base_uri": "https://localhost:8080/",
          "height": 178
        },
        "id": "ST8VbnA6Nrzo",
        "outputId": "bd664d42-9751-4e80-e5cc-79649f2bbdf7"
      },
      "source": [
        "while True:\r\n",
        "  pass\r\n"
      ],
      "execution_count": 23,
      "outputs": [
        {
          "output_type": "error",
          "ename": "KeyboardInterrupt",
          "evalue": "ignored",
          "traceback": [
            "\u001b[0;31m---------------------------------------------------------------------------\u001b[0m",
            "\u001b[0;31mKeyboardInterrupt\u001b[0m                         Traceback (most recent call last)",
            "\u001b[0;32m<ipython-input-23-648a2bab0435>\u001b[0m in \u001b[0;36m<module>\u001b[0;34m()\u001b[0m\n\u001b[1;32m      1\u001b[0m \u001b[0;32mwhile\u001b[0m \u001b[0;32mTrue\u001b[0m\u001b[0;34m:\u001b[0m\u001b[0;34m\u001b[0m\u001b[0;34m\u001b[0m\u001b[0m\n\u001b[0;32m----> 2\u001b[0;31m   \u001b[0;32mpass\u001b[0m\u001b[0;34m\u001b[0m\u001b[0;34m\u001b[0m\u001b[0m\n\u001b[0m",
            "\u001b[0;31mKeyboardInterrupt\u001b[0m: "
          ]
        }
      ]
    },
    {
      "cell_type": "code",
      "metadata": {
        "colab": {
          "base_uri": "https://localhost:8080/"
        },
        "id": "xJXrLt-0NvCp",
        "outputId": "e52804a0-31ff-4031-b093-6d7b89459aef"
      },
      "source": [
        "!apt-get install openjdk-8-jdk-headless -qq > /dev/null\r\n",
        "!wget -q https://www-us.apache.org/dist/spark/spark-2.4.1/spark-2.4.1-bin-hadoop2.7.tgz\r\n",
        "!tar xf spark-2.4.1-bin-hadoop2.7.tgz\r\n",
        "!pip install -q findspark"
      ],
      "execution_count": 1,
      "outputs": [
        {
          "output_type": "stream",
          "text": [
            "tar: spark-2.4.1-bin-hadoop2.7.tgz: Cannot open: No such file or directory\n",
            "tar: Error is not recoverable: exiting now\n"
          ],
          "name": "stdout"
        }
      ]
    },
    {
      "cell_type": "code",
      "metadata": {
        "colab": {
          "base_uri": "https://localhost:8080/"
        },
        "id": "jcKlO4cKN6qL",
        "outputId": "2410dfd8-4de9-43d0-de6a-c53b58fe63d3"
      },
      "source": [
        "from google.colab import drive\r\n",
        "drive.mount('/content/drive')"
      ],
      "execution_count": 4,
      "outputs": [
        {
          "output_type": "stream",
          "text": [
            "Mounted at /content/drive\n"
          ],
          "name": "stdout"
        }
      ]
    },
    {
      "cell_type": "code",
      "metadata": {
        "id": "-LE--3IFOWYr"
      },
      "source": [
        "!apt-get install openjdk-8-jdk-headless -qq > /dev/null\r\n"
      ],
      "execution_count": 6,
      "outputs": []
    },
    {
      "cell_type": "code",
      "metadata": {
        "id": "5OsZpX6nUtAa"
      },
      "source": [
        "!wget -q https://www-us.apache.org/dist/spark/spark-3.0.1/spark-3.0.1-bin-hadoop2.7.tgz\r\n"
      ],
      "execution_count": 7,
      "outputs": []
    },
    {
      "cell_type": "code",
      "metadata": {
        "id": "FqX1bpppUx7o"
      },
      "source": [
        "!tar xf spark-3.0.1-bin-hadoop2.7.tgz\r\n"
      ],
      "execution_count": 8,
      "outputs": []
    },
    {
      "cell_type": "code",
      "metadata": {
        "id": "809DdjnUU4wL"
      },
      "source": [
        "!pip install -q findspark\r\n"
      ],
      "execution_count": 9,
      "outputs": []
    },
    {
      "cell_type": "code",
      "metadata": {
        "id": "J6fSppwfU-Rw"
      },
      "source": [
        "import os\r\n",
        "os.environ[\"JAVA_HOME\"] = \"/usr/lib/jvm/java-8-openjdk-amd64\"\r\n",
        "os.environ[\"SPARK_HOME\"] = \"/content/spark-3.0.1-bin-hadoop2.7\""
      ],
      "execution_count": 10,
      "outputs": []
    },
    {
      "cell_type": "code",
      "metadata": {
        "id": "JvWwmiH0VE90"
      },
      "source": [
        "import findspark\r\n",
        "findspark.init()"
      ],
      "execution_count": 11,
      "outputs": []
    },
    {
      "cell_type": "code",
      "metadata": {
        "colab": {
          "base_uri": "https://localhost:8080/",
          "height": 35
        },
        "id": "iznfQcFIVI9e",
        "outputId": "a644ac6a-003f-4c41-ca71-4e167bc00cfe"
      },
      "source": [
        "findspark.find()"
      ],
      "execution_count": 12,
      "outputs": [
        {
          "output_type": "execute_result",
          "data": {
            "application/vnd.google.colaboratory.intrinsic+json": {
              "type": "string"
            },
            "text/plain": [
              "'/content/spark-3.0.1-bin-hadoop2.7'"
            ]
          },
          "metadata": {
            "tags": []
          },
          "execution_count": 12
        }
      ]
    },
    {
      "cell_type": "code",
      "metadata": {
        "id": "4n0TWB6hVNrP"
      },
      "source": [
        "from pyspark.sql import SparkSession\r\n",
        "\r\n",
        "spark = SparkSession.builder\\\r\n",
        "        .master(\"local\")\\\r\n",
        "        .appName(\"Spark\")\\\r\n",
        "        .config('spark.ui.port', '4050')\\\r\n",
        "        .getOrCreate()"
      ],
      "execution_count": 15,
      "outputs": []
    },
    {
      "cell_type": "code",
      "metadata": {
        "colab": {
          "base_uri": "https://localhost:8080/",
          "height": 214
        },
        "id": "oOxMbyhaVeEu",
        "outputId": "6a99fec6-aacc-4daa-b366-adde32db957b"
      },
      "source": [
        "spark"
      ],
      "execution_count": 16,
      "outputs": [
        {
          "output_type": "execute_result",
          "data": {
            "text/html": [
              "\n",
              "            <div>\n",
              "                <p><b>SparkSession - in-memory</b></p>\n",
              "                \n",
              "        <div>\n",
              "            <p><b>SparkContext</b></p>\n",
              "\n",
              "            <p><a href=\"http://6e52b60ec2a2:4050\">Spark UI</a></p>\n",
              "\n",
              "            <dl>\n",
              "              <dt>Version</dt>\n",
              "                <dd><code>v3.0.1</code></dd>\n",
              "              <dt>Master</dt>\n",
              "                <dd><code>local</code></dd>\n",
              "              <dt>AppName</dt>\n",
              "                <dd><code>Colab</code></dd>\n",
              "            </dl>\n",
              "        </div>\n",
              "        \n",
              "            </div>\n",
              "        "
            ],
            "text/plain": [
              "<pyspark.sql.session.SparkSession at 0x7f23291e7c88>"
            ]
          },
          "metadata": {
            "tags": []
          },
          "execution_count": 16
        }
      ]
    },
    {
      "cell_type": "code",
      "metadata": {
        "id": "DyoPAyaGV648"
      },
      "source": [
        ""
      ],
      "execution_count": 22,
      "outputs": []
    },
    {
      "cell_type": "code",
      "metadata": {
        "colab": {
          "base_uri": "https://localhost:8080/"
        },
        "id": "vSDHQWZvcr84",
        "outputId": "16b689f9-cf7a-4a6d-af1e-5ba18ee8592f"
      },
      "source": [
        "!wget https://bin.equinox.io/c/4VmDzA7iaHb/ngrok-stable-linux-amd64.zip\r\n",
        "!unzip ngrok-stable-linux-amd64.zip\r\n",
        "get_ipython().system_raw('./ngrok http 4050 &')"
      ],
      "execution_count": 21,
      "outputs": [
        {
          "output_type": "stream",
          "text": [
            "--2021-02-17 14:44:36--  https://bin.equinox.io/c/4VmDzA7iaHb/ngrok-stable-linux-amd64.zip\n",
            "Resolving bin.equinox.io (bin.equinox.io)... 3.224.49.7, 54.159.34.239, 3.229.59.32, ...\n",
            "Connecting to bin.equinox.io (bin.equinox.io)|3.224.49.7|:443... connected.\n",
            "HTTP request sent, awaiting response... 200 OK\n",
            "Length: 13773305 (13M) [application/octet-stream]\n",
            "Saving to: ‘ngrok-stable-linux-amd64.zip.1’\n",
            "\n",
            "ngrok-stable-linux- 100%[===================>]  13.13M  38.4MB/s    in 0.3s    \n",
            "\n",
            "2021-02-17 14:44:37 (38.4 MB/s) - ‘ngrok-stable-linux-amd64.zip.1’ saved [13773305/13773305]\n",
            "\n",
            "Archive:  ngrok-stable-linux-amd64.zip\n",
            "replace ngrok? [y]es, [n]o, [A]ll, [N]one, [r]ename: y\n",
            "  inflating: ngrok                   \n"
          ],
          "name": "stdout"
        }
      ]
    },
    {
      "cell_type": "code",
      "metadata": {
        "colab": {
          "base_uri": "https://localhost:8080/"
        },
        "id": "hey8v7VuctET",
        "outputId": "4660d4c9-7497-48ce-95f0-09072491037a"
      },
      "source": [
        "!curl -s http://localhost:4040/api/tunnels\r\n"
      ],
      "execution_count": 22,
      "outputs": [
        {
          "output_type": "stream",
          "text": [
            "{\"tunnels\":[{\"name\":\"command_line\",\"uri\":\"/api/tunnels/command_line\",\"public_url\":\"https://882eaeba177b.ngrok.io\",\"proto\":\"https\",\"config\":{\"addr\":\"http://localhost:4050\",\"inspect\":true},\"metrics\":{\"conns\":{\"count\":0,\"gauge\":0,\"rate1\":0,\"rate5\":0,\"rate15\":0,\"p50\":0,\"p90\":0,\"p95\":0,\"p99\":0},\"http\":{\"count\":0,\"rate1\":0,\"rate5\":0,\"rate15\":0,\"p50\":0,\"p90\":0,\"p95\":0,\"p99\":0}}},{\"name\":\"command_line (http)\",\"uri\":\"/api/tunnels/command_line%20%28http%29\",\"public_url\":\"http://882eaeba177b.ngrok.io\",\"proto\":\"http\",\"config\":{\"addr\":\"http://localhost:4050\",\"inspect\":true},\"metrics\":{\"conns\":{\"count\":0,\"gauge\":0,\"rate1\":0,\"rate5\":0,\"rate15\":0,\"p50\":0,\"p90\":0,\"p95\":0,\"p99\":0},\"http\":{\"count\":0,\"rate1\":0,\"rate5\":0,\"rate15\":0,\"p50\":0,\"p90\":0,\"p95\":0,\"p99\":0}}}],\"uri\":\"/api/tunnels\"}\n"
          ],
          "name": "stdout"
        }
      ]
    },
    {
      "cell_type": "code",
      "metadata": {
        "colab": {
          "base_uri": "https://localhost:8080/"
        },
        "id": "RdQMRwXac62L",
        "outputId": "1ef06350-6850-4a5e-b2c5-fc32e1eef9fc"
      },
      "source": [
        "!unzip \"/content/drive/MyDrive/customer-churn-prediction-2020.zip\"\r\n"
      ],
      "execution_count": 24,
      "outputs": [
        {
          "output_type": "stream",
          "text": [
            "Archive:  /content/drive/MyDrive/customer-churn-prediction-2020.zip\n",
            "  inflating: sampleSubmission.csv    \n",
            "  inflating: test.csv                \n",
            "  inflating: train.csv               \n"
          ],
          "name": "stdout"
        }
      ]
    },
    {
      "cell_type": "code",
      "metadata": {
        "id": "KhuscKmc33CA"
      },
      "source": [
        "df = spark.read.csv(\"train.csv\", header=True, inferSchema=True)\r\n"
      ],
      "execution_count": 25,
      "outputs": []
    },
    {
      "cell_type": "code",
      "metadata": {
        "colab": {
          "base_uri": "https://localhost:8080/"
        },
        "id": "eEo_MDe839hA",
        "outputId": "22eadd80-5431-4504-c3ef-44c0a3fce54e"
      },
      "source": [
        "df.printSchema()"
      ],
      "execution_count": 28,
      "outputs": [
        {
          "output_type": "stream",
          "text": [
            "root\n",
            " |-- state: string (nullable = true)\n",
            " |-- account_length: integer (nullable = true)\n",
            " |-- area_code: string (nullable = true)\n",
            " |-- international_plan: string (nullable = true)\n",
            " |-- voice_mail_plan: string (nullable = true)\n",
            " |-- number_vmail_messages: integer (nullable = true)\n",
            " |-- total_day_minutes: double (nullable = true)\n",
            " |-- total_day_calls: integer (nullable = true)\n",
            " |-- total_day_charge: double (nullable = true)\n",
            " |-- total_eve_minutes: double (nullable = true)\n",
            " |-- total_eve_calls: integer (nullable = true)\n",
            " |-- total_eve_charge: double (nullable = true)\n",
            " |-- total_night_minutes: double (nullable = true)\n",
            " |-- total_night_calls: integer (nullable = true)\n",
            " |-- total_night_charge: double (nullable = true)\n",
            " |-- total_intl_minutes: double (nullable = true)\n",
            " |-- total_intl_calls: integer (nullable = true)\n",
            " |-- total_intl_charge: double (nullable = true)\n",
            " |-- number_customer_service_calls: integer (nullable = true)\n",
            " |-- churn: string (nullable = true)\n",
            "\n"
          ],
          "name": "stdout"
        }
      ]
    },
    {
      "cell_type": "code",
      "metadata": {
        "colab": {
          "base_uri": "https://localhost:8080/"
        },
        "id": "IDKKHmHJ4L70",
        "outputId": "e3895f80-bdcb-4e4b-89bf-01fbe9748c58"
      },
      "source": [
        "df.show()"
      ],
      "execution_count": 29,
      "outputs": [
        {
          "output_type": "stream",
          "text": [
            "+-----+--------------+-------------+------------------+---------------+---------------------+-----------------+---------------+----------------+-----------------+---------------+----------------+-------------------+-----------------+------------------+------------------+----------------+-----------------+-----------------------------+-----+\n",
            "|state|account_length|    area_code|international_plan|voice_mail_plan|number_vmail_messages|total_day_minutes|total_day_calls|total_day_charge|total_eve_minutes|total_eve_calls|total_eve_charge|total_night_minutes|total_night_calls|total_night_charge|total_intl_minutes|total_intl_calls|total_intl_charge|number_customer_service_calls|churn|\n",
            "+-----+--------------+-------------+------------------+---------------+---------------------+-----------------+---------------+----------------+-----------------+---------------+----------------+-------------------+-----------------+------------------+------------------+----------------+-----------------+-----------------------------+-----+\n",
            "|   OH|           107|area_code_415|                no|            yes|                   26|            161.6|            123|           27.47|            195.5|            103|           16.62|              254.4|              103|             11.45|              13.7|               3|              3.7|                            1|   no|\n",
            "|   NJ|           137|area_code_415|                no|             no|                    0|            243.4|            114|           41.38|            121.2|            110|            10.3|              162.6|              104|              7.32|              12.2|               5|             3.29|                            0|   no|\n",
            "|   OH|            84|area_code_408|               yes|             no|                    0|            299.4|             71|            50.9|             61.9|             88|            5.26|              196.9|               89|              8.86|               6.6|               7|             1.78|                            2|   no|\n",
            "|   OK|            75|area_code_415|               yes|             no|                    0|            166.7|            113|           28.34|            148.3|            122|           12.61|              186.9|              121|              8.41|              10.1|               3|             2.73|                            3|   no|\n",
            "|   MA|           121|area_code_510|                no|            yes|                   24|            218.2|             88|           37.09|            348.5|            108|           29.62|              212.6|              118|              9.57|               7.5|               7|             2.03|                            3|   no|\n",
            "|   MO|           147|area_code_415|               yes|             no|                    0|            157.0|             79|           26.69|            103.1|             94|            8.76|              211.8|               96|              9.53|               7.1|               6|             1.92|                            0|   no|\n",
            "|   LA|           117|area_code_408|                no|             no|                    0|            184.5|             97|           31.37|            351.6|             80|           29.89|              215.8|               90|              9.71|               8.7|               4|             2.35|                            1|   no|\n",
            "|   WV|           141|area_code_415|               yes|            yes|                   37|            258.6|             84|           43.96|            222.0|            111|           18.87|              326.4|               97|             14.69|              11.2|               5|             3.02|                            0|   no|\n",
            "|   IN|            65|area_code_415|                no|             no|                    0|            129.1|            137|           21.95|            228.5|             83|           19.42|              208.8|              111|               9.4|              12.7|               6|             3.43|                            4|  yes|\n",
            "|   RI|            74|area_code_415|                no|             no|                    0|            187.7|            127|           31.91|            163.4|            148|           13.89|              196.0|               94|              8.82|               9.1|               5|             2.46|                            0|   no|\n",
            "|   IA|           168|area_code_408|                no|             no|                    0|            128.8|             96|            21.9|            104.9|             71|            8.92|              141.1|              128|              6.35|              11.2|               2|             3.02|                            1|   no|\n",
            "|   MT|            95|area_code_510|                no|             no|                    0|            156.6|             88|           26.62|            247.6|             75|           21.05|              192.3|              115|              8.65|              12.3|               5|             3.32|                            3|   no|\n",
            "|   NY|           161|area_code_415|                no|             no|                    0|            332.9|             67|           56.59|            317.8|             97|           27.01|              160.6|              128|              7.23|               5.4|               9|             1.46|                            4|  yes|\n",
            "|   ID|            85|area_code_408|                no|            yes|                   27|            196.4|            139|           33.39|            280.9|             90|           23.88|               89.3|               75|              4.02|              13.8|               4|             3.73|                            1|   no|\n",
            "|   VA|            76|area_code_510|                no|            yes|                   33|            189.7|             66|           32.25|            212.8|             65|           18.09|              165.7|              108|              7.46|              10.0|               5|              2.7|                            1|   no|\n",
            "|   TX|            73|area_code_415|                no|             no|                    0|            224.4|             90|           38.15|            159.5|             88|           13.56|              192.8|               74|              8.68|              13.0|               2|             3.51|                            1|   no|\n",
            "|   FL|           147|area_code_415|                no|             no|                    0|            155.1|            117|           26.37|            239.7|             93|           20.37|              208.8|              133|               9.4|              10.6|               4|             2.86|                            0|   no|\n",
            "|   CO|            77|area_code_408|                no|             no|                    0|             62.4|             89|           10.61|            169.9|            121|           14.44|              209.6|               64|              9.43|               5.7|               6|             1.54|                            5|  yes|\n",
            "|   AZ|           130|area_code_415|                no|             no|                    0|            183.0|            112|           31.11|             72.9|             99|             6.2|              181.8|               78|              8.18|               9.5|              19|             2.57|                            0|   no|\n",
            "|   SC|           111|area_code_415|                no|             no|                    0|            110.4|            103|           18.77|            137.3|            102|           11.67|              189.6|              105|              8.53|               7.7|               6|             2.08|                            2|   no|\n",
            "+-----+--------------+-------------+------------------+---------------+---------------------+-----------------+---------------+----------------+-----------------+---------------+----------------+-------------------+-----------------+------------------+------------------+----------------+-----------------+-----------------------------+-----+\n",
            "only showing top 20 rows\n",
            "\n"
          ],
          "name": "stdout"
        }
      ]
    },
    {
      "cell_type": "code",
      "metadata": {
        "colab": {
          "base_uri": "https://localhost:8080/"
        },
        "id": "hBSGcR_R4SGB",
        "outputId": "1380fc0c-a406-4140-aed3-177c826f1d4c"
      },
      "source": [
        "df.describe().show()"
      ],
      "execution_count": 32,
      "outputs": [
        {
          "output_type": "stream",
          "text": [
            "+-------+-----+------------------+-------------+------------------+---------------+---------------------+-----------------+-----------------+-----------------+------------------+------------------+------------------+-------------------+-----------------+------------------+------------------+-----------------+------------------+-----------------------------+-----+\n",
            "|summary|state|    account_length|    area_code|international_plan|voice_mail_plan|number_vmail_messages|total_day_minutes|  total_day_calls| total_day_charge| total_eve_minutes|   total_eve_calls|  total_eve_charge|total_night_minutes|total_night_calls|total_night_charge|total_intl_minutes| total_intl_calls| total_intl_charge|number_customer_service_calls|churn|\n",
            "+-------+-----+------------------+-------------+------------------+---------------+---------------------+-----------------+-----------------+-----------------+------------------+------------------+------------------+-------------------+-----------------+------------------+------------------+-----------------+------------------+-----------------------------+-----+\n",
            "|  count| 4250|              4250|         4250|              4250|           4250|                 4250|             4250|             4250|             4250|              4250|              4250|              4250|               4250|             4250|              4250|              4250|             4250|              4250|                         4250| 4250|\n",
            "|   mean| null|100.23623529411765|         null|              null|           null|    7.631764705882353|180.2595999999994|99.90729411764706|30.64468235294131|200.17390588235307|100.17647058823529|17.015011764705875| 200.52788235294165| 99.8395294117647| 9.023891764705922|10.256070588235291|4.426352941176471|2.7696541176470455|           1.5590588235294118| null|\n",
            "| stddev| null|  39.6984005686773|         null|              null|           null|   13.439882196596512| 54.0123733314177|19.85081731214296|9.182096032769165|50.249518183794954| 19.90859110480936| 4.271211992240319|  50.35354807463601|20.09321979024039|2.2659218112187354|2.7601017261885157|2.463069112738743|0.7452041363842502|           1.3114335302568632| null|\n",
            "|    min|   AK|                 1|area_code_408|                no|             no|                    0|              0.0|                0|              0.0|               0.0|                 0|               0.0|                0.0|                0|               0.0|               0.0|                0|               0.0|                            0|   no|\n",
            "|    max|   WY|               243|area_code_510|               yes|            yes|                   52|            351.5|              165|            59.76|             359.3|               170|             30.54|              395.0|              175|             17.77|              20.0|               20|               5.4|                            9|  yes|\n",
            "+-------+-----+------------------+-------------+------------------+---------------+---------------------+-----------------+-----------------+-----------------+------------------+------------------+------------------+-------------------+-----------------+------------------+------------------+-----------------+------------------+-----------------------------+-----+\n",
            "\n"
          ],
          "name": "stdout"
        }
      ]
    },
    {
      "cell_type": "code",
      "metadata": {
        "id": "pCllBZM-8fCZ"
      },
      "source": [
        ""
      ],
      "execution_count": null,
      "outputs": []
    }
  ]
}