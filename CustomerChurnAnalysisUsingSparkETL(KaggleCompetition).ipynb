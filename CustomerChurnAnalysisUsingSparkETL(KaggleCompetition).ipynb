{
  "nbformat": 4,
  "nbformat_minor": 0,
  "metadata": {
    "colab": {
      "name": "CustomerChurnAnalysisUsingSparkETL(KaggleCompetition).ipynb",
      "provenance": [],
      "authorship_tag": "ABX9TyNTl3Wd9JaVvOyW7U3C8Ha/",
      "include_colab_link": true
    },
    "kernelspec": {
      "name": "python3",
      "display_name": "Python 3"
    }
  },
  "cells": [
    {
      "cell_type": "markdown",
      "metadata": {
        "id": "view-in-github",
        "colab_type": "text"
      },
      "source": [
        "<a href=\"https://colab.research.google.com/github/darshan-analytics/CustomerChurnAnalysisUsingSparkETL-KaggleCompetition-/blob/main/CustomerChurnAnalysisUsingSparkETL(KaggleCompetition).ipynb\" target=\"_parent\"><img src=\"https://colab.research.google.com/assets/colab-badge.svg\" alt=\"Open In Colab\"/></a>"
      ]
    },
    {
      "cell_type": "code",
      "metadata": {
        "id": "ST8VbnA6Nrzo"
      },
      "source": [
        "while True:\r\n",
        "  pass\r\n"
      ],
      "execution_count": null,
      "outputs": []
    },
    {
      "cell_type": "code",
      "metadata": {
        "colab": {
          "base_uri": "https://localhost:8080/"
        },
        "id": "xJXrLt-0NvCp",
        "outputId": "eb9b9363-631e-4832-b8fe-1f4723166d02"
      },
      "source": [
        "!apt-get install openjdk-8-jdk-headless -qq > /dev/null\r\n",
        "!wget -q https://www-us.apache.org/dist/spark/spark-2.4.1/spark-2.4.1-bin-hadoop2.7.tgz\r\n",
        "!tar xf spark-2.4.1-bin-hadoop2.7.tgz\r\n",
        "!pip install -q findspark"
      ],
      "execution_count": 2,
      "outputs": [
        {
          "output_type": "stream",
          "text": [
            "tar: spark-2.4.1-bin-hadoop2.7.tgz: Cannot open: No such file or directory\n",
            "tar: Error is not recoverable: exiting now\n"
          ],
          "name": "stdout"
        }
      ]
    },
    {
      "cell_type": "code",
      "metadata": {
        "colab": {
          "base_uri": "https://localhost:8080/"
        },
        "id": "jcKlO4cKN6qL",
        "outputId": "ace92369-87eb-4193-d4ea-a133df7dd274"
      },
      "source": [
        "from google.colab import drive\r\n",
        "drive.mount('/content/drive')"
      ],
      "execution_count": 3,
      "outputs": [
        {
          "output_type": "stream",
          "text": [
            "Mounted at /content/drive\n"
          ],
          "name": "stdout"
        }
      ]
    },
    {
      "cell_type": "code",
      "metadata": {
        "id": "-LE--3IFOWYr"
      },
      "source": [
        "!apt-get install openjdk-8-jdk-headless -qq > /dev/null\r\n"
      ],
      "execution_count": 4,
      "outputs": []
    },
    {
      "cell_type": "code",
      "metadata": {
        "id": "5OsZpX6nUtAa"
      },
      "source": [
        "!wget -q https://www-us.apache.org/dist/spark/spark-3.0.1/spark-3.0.1-bin-hadoop2.7.tgz\r\n"
      ],
      "execution_count": 5,
      "outputs": []
    },
    {
      "cell_type": "code",
      "metadata": {
        "id": "FqX1bpppUx7o"
      },
      "source": [
        "!tar xf spark-3.0.1-bin-hadoop2.7.tgz\r\n"
      ],
      "execution_count": 6,
      "outputs": []
    },
    {
      "cell_type": "code",
      "metadata": {
        "id": "809DdjnUU4wL"
      },
      "source": [
        "!pip install -q findspark\r\n"
      ],
      "execution_count": 7,
      "outputs": []
    },
    {
      "cell_type": "code",
      "metadata": {
        "id": "J6fSppwfU-Rw"
      },
      "source": [
        "import os\r\n",
        "os.environ[\"JAVA_HOME\"] = \"/usr/lib/jvm/java-8-openjdk-amd64\"\r\n",
        "os.environ[\"SPARK_HOME\"] = \"/content/spark-3.0.1-bin-hadoop2.7\""
      ],
      "execution_count": 8,
      "outputs": []
    },
    {
      "cell_type": "code",
      "metadata": {
        "id": "JvWwmiH0VE90"
      },
      "source": [
        "import findspark\r\n",
        "findspark.init()"
      ],
      "execution_count": 9,
      "outputs": []
    },
    {
      "cell_type": "code",
      "metadata": {
        "colab": {
          "base_uri": "https://localhost:8080/",
          "height": 35
        },
        "id": "iznfQcFIVI9e",
        "outputId": "1839dfe0-f47e-489d-8c19-2602fc657c0c"
      },
      "source": [
        "findspark.find()"
      ],
      "execution_count": 10,
      "outputs": [
        {
          "output_type": "execute_result",
          "data": {
            "application/vnd.google.colaboratory.intrinsic+json": {
              "type": "string"
            },
            "text/plain": [
              "'/content/spark-3.0.1-bin-hadoop2.7'"
            ]
          },
          "metadata": {
            "tags": []
          },
          "execution_count": 10
        }
      ]
    },
    {
      "cell_type": "code",
      "metadata": {
        "id": "4n0TWB6hVNrP"
      },
      "source": [
        "from pyspark.sql import SparkSession\r\n",
        "\r\n",
        "spark = SparkSession.builder\\\r\n",
        "        .master(\"local\")\\\r\n",
        "        .appName(\"Spark\")\\\r\n",
        "        .config('spark.ui.port', '4050')\\\r\n",
        "        .getOrCreate()"
      ],
      "execution_count": 11,
      "outputs": []
    },
    {
      "cell_type": "code",
      "metadata": {
        "colab": {
          "base_uri": "https://localhost:8080/",
          "height": 214
        },
        "id": "oOxMbyhaVeEu",
        "outputId": "c8b5c7ac-252f-4cd0-9462-176f81e15477"
      },
      "source": [
        "spark"
      ],
      "execution_count": 43,
      "outputs": [
        {
          "output_type": "execute_result",
          "data": {
            "text/html": [
              "\n",
              "            <div>\n",
              "                <p><b>SparkSession - in-memory</b></p>\n",
              "                \n",
              "        <div>\n",
              "            <p><b>SparkContext</b></p>\n",
              "\n",
              "            <p><a href=\"http://6e52b60ec2a2:4050\">Spark UI</a></p>\n",
              "\n",
              "            <dl>\n",
              "              <dt>Version</dt>\n",
              "                <dd><code>v3.0.1</code></dd>\n",
              "              <dt>Master</dt>\n",
              "                <dd><code>local</code></dd>\n",
              "              <dt>AppName</dt>\n",
              "                <dd><code>Colab</code></dd>\n",
              "            </dl>\n",
              "        </div>\n",
              "        \n",
              "            </div>\n",
              "        "
            ],
            "text/plain": [
              "<pyspark.sql.session.SparkSession at 0x7f23291e7c88>"
            ]
          },
          "metadata": {
            "tags": []
          },
          "execution_count": 43
        }
      ]
    },
    {
      "cell_type": "code",
      "metadata": {
        "id": "DyoPAyaGV648"
      },
      "source": [
        ""
      ],
      "execution_count": 22,
      "outputs": []
    },
    {
      "cell_type": "code",
      "metadata": {
        "colab": {
          "base_uri": "https://localhost:8080/"
        },
        "id": "vSDHQWZvcr84",
        "outputId": "679f1fd9-a417-4c34-deac-a3bf7105775d"
      },
      "source": [
        "!wget https://bin.equinox.io/c/4VmDzA7iaHb/ngrok-stable-linux-amd64.zip\r\n",
        "!unzip ngrok-stable-linux-amd64.zip\r\n",
        "get_ipython().system_raw('./ngrok http 4050 &')"
      ],
      "execution_count": 12,
      "outputs": [
        {
          "output_type": "stream",
          "text": [
            "--2021-02-18 19:47:56--  https://bin.equinox.io/c/4VmDzA7iaHb/ngrok-stable-linux-amd64.zip\n",
            "Resolving bin.equinox.io (bin.equinox.io)... 3.213.190.117, 3.217.26.81, 52.54.16.202, ...\n",
            "Connecting to bin.equinox.io (bin.equinox.io)|3.213.190.117|:443... connected.\n",
            "HTTP request sent, awaiting response... 200 OK\n",
            "Length: 13773305 (13M) [application/octet-stream]\n",
            "Saving to: ‘ngrok-stable-linux-amd64.zip’\n",
            "\n",
            "ngrok-stable-linux- 100%[===================>]  13.13M  18.9MB/s    in 0.7s    \n",
            "\n",
            "2021-02-18 19:47:57 (18.9 MB/s) - ‘ngrok-stable-linux-amd64.zip’ saved [13773305/13773305]\n",
            "\n",
            "Archive:  ngrok-stable-linux-amd64.zip\n",
            "  inflating: ngrok                   \n"
          ],
          "name": "stdout"
        }
      ]
    },
    {
      "cell_type": "code",
      "metadata": {
        "colab": {
          "base_uri": "https://localhost:8080/"
        },
        "id": "hey8v7VuctET",
        "outputId": "a9df3214-ef8d-4921-a483-01203ea6d967"
      },
      "source": [
        "!curl -s http://localhost:4040/api/tunnels\r\n"
      ],
      "execution_count": 13,
      "outputs": [
        {
          "output_type": "stream",
          "text": [
            "{\"tunnels\":[],\"uri\":\"/api/tunnels\"}\n"
          ],
          "name": "stdout"
        }
      ]
    },
    {
      "cell_type": "code",
      "metadata": {
        "colab": {
          "base_uri": "https://localhost:8080/"
        },
        "id": "RdQMRwXac62L",
        "outputId": "1623e61b-9790-4400-d4c1-76daa69686f0"
      },
      "source": [
        "!unzip \"/content/drive/MyDrive/customer-churn-prediction-2020.zip\"\r\n"
      ],
      "execution_count": 15,
      "outputs": [
        {
          "output_type": "stream",
          "text": [
            "Archive:  /content/drive/MyDrive/customer-churn-prediction-2020.zip\n",
            "  inflating: sampleSubmission.csv    \n",
            "  inflating: test.csv                \n",
            "  inflating: train.csv               \n"
          ],
          "name": "stdout"
        }
      ]
    },
    {
      "cell_type": "code",
      "metadata": {
        "id": "KhuscKmc33CA"
      },
      "source": [
        "df = spark.read.csv(\"train.csv\", header=True, inferSchema=True)\r\n"
      ],
      "execution_count": 16,
      "outputs": []
    },
    {
      "cell_type": "code",
      "metadata": {
        "colab": {
          "base_uri": "https://localhost:8080/"
        },
        "id": "eEo_MDe839hA",
        "outputId": "29b1b5ed-ff10-448f-f4eb-7d172f8175da"
      },
      "source": [
        "df.printSchema()"
      ],
      "execution_count": 17,
      "outputs": [
        {
          "output_type": "stream",
          "text": [
            "root\n",
            " |-- state: string (nullable = true)\n",
            " |-- account_length: integer (nullable = true)\n",
            " |-- area_code: string (nullable = true)\n",
            " |-- international_plan: string (nullable = true)\n",
            " |-- voice_mail_plan: string (nullable = true)\n",
            " |-- number_vmail_messages: integer (nullable = true)\n",
            " |-- total_day_minutes: double (nullable = true)\n",
            " |-- total_day_calls: integer (nullable = true)\n",
            " |-- total_day_charge: double (nullable = true)\n",
            " |-- total_eve_minutes: double (nullable = true)\n",
            " |-- total_eve_calls: integer (nullable = true)\n",
            " |-- total_eve_charge: double (nullable = true)\n",
            " |-- total_night_minutes: double (nullable = true)\n",
            " |-- total_night_calls: integer (nullable = true)\n",
            " |-- total_night_charge: double (nullable = true)\n",
            " |-- total_intl_minutes: double (nullable = true)\n",
            " |-- total_intl_calls: integer (nullable = true)\n",
            " |-- total_intl_charge: double (nullable = true)\n",
            " |-- number_customer_service_calls: integer (nullable = true)\n",
            " |-- churn: string (nullable = true)\n",
            "\n"
          ],
          "name": "stdout"
        }
      ]
    },
    {
      "cell_type": "code",
      "metadata": {
        "colab": {
          "base_uri": "https://localhost:8080/"
        },
        "id": "IDKKHmHJ4L70",
        "outputId": "430bf416-3933-4ad9-9637-595d845bc7f8"
      },
      "source": [
        "df.show()"
      ],
      "execution_count": 18,
      "outputs": [
        {
          "output_type": "stream",
          "text": [
            "+-----+--------------+-------------+------------------+---------------+---------------------+-----------------+---------------+----------------+-----------------+---------------+----------------+-------------------+-----------------+------------------+------------------+----------------+-----------------+-----------------------------+-----+\n",
            "|state|account_length|    area_code|international_plan|voice_mail_plan|number_vmail_messages|total_day_minutes|total_day_calls|total_day_charge|total_eve_minutes|total_eve_calls|total_eve_charge|total_night_minutes|total_night_calls|total_night_charge|total_intl_minutes|total_intl_calls|total_intl_charge|number_customer_service_calls|churn|\n",
            "+-----+--------------+-------------+------------------+---------------+---------------------+-----------------+---------------+----------------+-----------------+---------------+----------------+-------------------+-----------------+------------------+------------------+----------------+-----------------+-----------------------------+-----+\n",
            "|   OH|           107|area_code_415|                no|            yes|                   26|            161.6|            123|           27.47|            195.5|            103|           16.62|              254.4|              103|             11.45|              13.7|               3|              3.7|                            1|   no|\n",
            "|   NJ|           137|area_code_415|                no|             no|                    0|            243.4|            114|           41.38|            121.2|            110|            10.3|              162.6|              104|              7.32|              12.2|               5|             3.29|                            0|   no|\n",
            "|   OH|            84|area_code_408|               yes|             no|                    0|            299.4|             71|            50.9|             61.9|             88|            5.26|              196.9|               89|              8.86|               6.6|               7|             1.78|                            2|   no|\n",
            "|   OK|            75|area_code_415|               yes|             no|                    0|            166.7|            113|           28.34|            148.3|            122|           12.61|              186.9|              121|              8.41|              10.1|               3|             2.73|                            3|   no|\n",
            "|   MA|           121|area_code_510|                no|            yes|                   24|            218.2|             88|           37.09|            348.5|            108|           29.62|              212.6|              118|              9.57|               7.5|               7|             2.03|                            3|   no|\n",
            "|   MO|           147|area_code_415|               yes|             no|                    0|            157.0|             79|           26.69|            103.1|             94|            8.76|              211.8|               96|              9.53|               7.1|               6|             1.92|                            0|   no|\n",
            "|   LA|           117|area_code_408|                no|             no|                    0|            184.5|             97|           31.37|            351.6|             80|           29.89|              215.8|               90|              9.71|               8.7|               4|             2.35|                            1|   no|\n",
            "|   WV|           141|area_code_415|               yes|            yes|                   37|            258.6|             84|           43.96|            222.0|            111|           18.87|              326.4|               97|             14.69|              11.2|               5|             3.02|                            0|   no|\n",
            "|   IN|            65|area_code_415|                no|             no|                    0|            129.1|            137|           21.95|            228.5|             83|           19.42|              208.8|              111|               9.4|              12.7|               6|             3.43|                            4|  yes|\n",
            "|   RI|            74|area_code_415|                no|             no|                    0|            187.7|            127|           31.91|            163.4|            148|           13.89|              196.0|               94|              8.82|               9.1|               5|             2.46|                            0|   no|\n",
            "|   IA|           168|area_code_408|                no|             no|                    0|            128.8|             96|            21.9|            104.9|             71|            8.92|              141.1|              128|              6.35|              11.2|               2|             3.02|                            1|   no|\n",
            "|   MT|            95|area_code_510|                no|             no|                    0|            156.6|             88|           26.62|            247.6|             75|           21.05|              192.3|              115|              8.65|              12.3|               5|             3.32|                            3|   no|\n",
            "|   NY|           161|area_code_415|                no|             no|                    0|            332.9|             67|           56.59|            317.8|             97|           27.01|              160.6|              128|              7.23|               5.4|               9|             1.46|                            4|  yes|\n",
            "|   ID|            85|area_code_408|                no|            yes|                   27|            196.4|            139|           33.39|            280.9|             90|           23.88|               89.3|               75|              4.02|              13.8|               4|             3.73|                            1|   no|\n",
            "|   VA|            76|area_code_510|                no|            yes|                   33|            189.7|             66|           32.25|            212.8|             65|           18.09|              165.7|              108|              7.46|              10.0|               5|              2.7|                            1|   no|\n",
            "|   TX|            73|area_code_415|                no|             no|                    0|            224.4|             90|           38.15|            159.5|             88|           13.56|              192.8|               74|              8.68|              13.0|               2|             3.51|                            1|   no|\n",
            "|   FL|           147|area_code_415|                no|             no|                    0|            155.1|            117|           26.37|            239.7|             93|           20.37|              208.8|              133|               9.4|              10.6|               4|             2.86|                            0|   no|\n",
            "|   CO|            77|area_code_408|                no|             no|                    0|             62.4|             89|           10.61|            169.9|            121|           14.44|              209.6|               64|              9.43|               5.7|               6|             1.54|                            5|  yes|\n",
            "|   AZ|           130|area_code_415|                no|             no|                    0|            183.0|            112|           31.11|             72.9|             99|             6.2|              181.8|               78|              8.18|               9.5|              19|             2.57|                            0|   no|\n",
            "|   SC|           111|area_code_415|                no|             no|                    0|            110.4|            103|           18.77|            137.3|            102|           11.67|              189.6|              105|              8.53|               7.7|               6|             2.08|                            2|   no|\n",
            "+-----+--------------+-------------+------------------+---------------+---------------------+-----------------+---------------+----------------+-----------------+---------------+----------------+-------------------+-----------------+------------------+------------------+----------------+-----------------+-----------------------------+-----+\n",
            "only showing top 20 rows\n",
            "\n"
          ],
          "name": "stdout"
        }
      ]
    },
    {
      "cell_type": "code",
      "metadata": {
        "colab": {
          "base_uri": "https://localhost:8080/"
        },
        "id": "hBSGcR_R4SGB",
        "outputId": "4df0eab8-b592-4313-e124-ed8c86c57095"
      },
      "source": [
        "df.describe().show()"
      ],
      "execution_count": 19,
      "outputs": [
        {
          "output_type": "stream",
          "text": [
            "+-------+-----+------------------+-------------+------------------+---------------+---------------------+-----------------+-----------------+-----------------+------------------+------------------+------------------+-------------------+-----------------+------------------+------------------+-----------------+------------------+-----------------------------+-----+\n",
            "|summary|state|    account_length|    area_code|international_plan|voice_mail_plan|number_vmail_messages|total_day_minutes|  total_day_calls| total_day_charge| total_eve_minutes|   total_eve_calls|  total_eve_charge|total_night_minutes|total_night_calls|total_night_charge|total_intl_minutes| total_intl_calls| total_intl_charge|number_customer_service_calls|churn|\n",
            "+-------+-----+------------------+-------------+------------------+---------------+---------------------+-----------------+-----------------+-----------------+------------------+------------------+------------------+-------------------+-----------------+------------------+------------------+-----------------+------------------+-----------------------------+-----+\n",
            "|  count| 4250|              4250|         4250|              4250|           4250|                 4250|             4250|             4250|             4250|              4250|              4250|              4250|               4250|             4250|              4250|              4250|             4250|              4250|                         4250| 4250|\n",
            "|   mean| null|100.23623529411765|         null|              null|           null|    7.631764705882353|180.2595999999994|99.90729411764706|30.64468235294131|200.17390588235307|100.17647058823529|17.015011764705875| 200.52788235294165| 99.8395294117647| 9.023891764705922|10.256070588235291|4.426352941176471|2.7696541176470455|           1.5590588235294118| null|\n",
            "| stddev| null|  39.6984005686773|         null|              null|           null|   13.439882196596512| 54.0123733314177|19.85081731214296|9.182096032769165|50.249518183794954| 19.90859110480936| 4.271211992240319|  50.35354807463601|20.09321979024039|2.2659218112187354|2.7601017261885157|2.463069112738743|0.7452041363842502|           1.3114335302568632| null|\n",
            "|    min|   AK|                 1|area_code_408|                no|             no|                    0|              0.0|                0|              0.0|               0.0|                 0|               0.0|                0.0|                0|               0.0|               0.0|                0|               0.0|                            0|   no|\n",
            "|    max|   WY|               243|area_code_510|               yes|            yes|                   52|            351.5|              165|            59.76|             359.3|               170|             30.54|              395.0|              175|             17.77|              20.0|               20|               5.4|                            9|  yes|\n",
            "+-------+-----+------------------+-------------+------------------+---------------+---------------------+-----------------+-----------------+-----------------+------------------+------------------+------------------+-------------------+-----------------+------------------+------------------+-----------------+------------------+-----------------------------+-----+\n",
            "\n"
          ],
          "name": "stdout"
        }
      ]
    },
    {
      "cell_type": "code",
      "metadata": {
        "id": "pCllBZM-8fCZ"
      },
      "source": [
        "table_name = 'for_churn_analysis'"
      ],
      "execution_count": 20,
      "outputs": []
    },
    {
      "cell_type": "code",
      "metadata": {
        "id": "14nZPyXpDMWO"
      },
      "source": [
        "df.createOrReplaceTempView(table_name)"
      ],
      "execution_count": 21,
      "outputs": []
    },
    {
      "cell_type": "code",
      "metadata": {
        "id": "BJNONn6SDcMX"
      },
      "source": [
        "from pyspark.sql import SparkSession\r\n",
        "from pyspark.context import SparkContext\r\n",
        "from pyspark.sql import functions as F\r\n",
        "import time"
      ],
      "execution_count": 22,
      "outputs": []
    },
    {
      "cell_type": "code",
      "metadata": {
        "colab": {
          "base_uri": "https://localhost:8080/"
        },
        "id": "zIKrR9fhUSGX",
        "outputId": "d21af3ec-9359-44d0-e752-a9239ef546ee"
      },
      "source": [
        "df.groupBy('churn').count().show()"
      ],
      "execution_count": 23,
      "outputs": [
        {
          "output_type": "stream",
          "text": [
            "+-----+-----+\n",
            "|churn|count|\n",
            "+-----+-----+\n",
            "|   no| 3652|\n",
            "|  yes|  598|\n",
            "+-----+-----+\n",
            "\n"
          ],
          "name": "stdout"
        }
      ]
    },
    {
      "cell_type": "code",
      "metadata": {
        "id": "GqeMxH_WYBIz"
      },
      "source": [
        "df2 = spark.sql(\"select state, sum(yes) as Churned, sum(no) as Not_churned from (for_churn_analysis) t PIVOT (count(area_code) for churn in ('yes','no')) group by state order by Churned DESC;\")"
      ],
      "execution_count": 52,
      "outputs": []
    },
    {
      "cell_type": "code",
      "metadata": {
        "colab": {
          "base_uri": "https://localhost:8080/"
        },
        "id": "DtaTol9707rb",
        "outputId": "0832de95-b098-4286-aa7d-d5486eee5f85"
      },
      "source": [
        "df2.show(5000, truncate= False)"
      ],
      "execution_count": 53,
      "outputs": [
        {
          "output_type": "stream",
          "text": [
            "+-----+-------+-----------+\n",
            "|state|Churned|Not_churned|\n",
            "+-----+-------+-----------+\n",
            "|NJ   |26     |70         |\n",
            "|TX   |19     |79         |\n",
            "|MN   |19     |89         |\n",
            "|WV   |19     |120        |\n",
            "|MD   |19     |67         |\n",
            "|WA   |18     |62         |\n",
            "|NV   |17     |66         |\n",
            "|MT   |17     |63         |\n",
            "|ME   |16     |73         |\n",
            "|NY   |16     |80         |\n",
            "|OK   |16     |62         |\n",
            "|MI   |15     |72         |\n",
            "|MS   |15     |67         |\n",
            "|OR   |15     |84         |\n",
            "|CT   |15     |73         |\n",
            "|KS   |15     |72         |\n",
            "|SC   |14     |58         |\n",
            "|MA   |14     |75         |\n",
            "|AL   |13     |88         |\n",
            "|IN   |13     |70         |\n",
            "|DE   |13     |67         |\n",
            "|OH   |12     |83         |\n",
            "|TN   |12     |67         |\n",
            "|ID   |12     |94         |\n",
            "|KY   |12     |73         |\n",
            "|UT   |12     |85         |\n",
            "|SD   |11     |64         |\n",
            "|AR   |11     |60         |\n",
            "|CA   |10     |29         |\n",
            "|WY   |10     |85         |\n",
            "|VT   |10     |76         |\n",
            "|NH   |10     |68         |\n",
            "|NM   |10     |68         |\n",
            "|MO   |10     |70         |\n",
            "|FL   |9      |67         |\n",
            "|CO   |9      |71         |\n",
            "|DC   |8      |64         |\n",
            "|PA   |8      |59         |\n",
            "|IA   |7      |55         |\n",
            "|AZ   |7      |70         |\n",
            "|GA   |7      |57         |\n",
            "|NC   |7      |73         |\n",
            "|LA   |7      |62         |\n",
            "|WI   |7      |87         |\n",
            "|RI   |6      |81         |\n",
            "|IL   |6      |73         |\n",
            "|ND   |6      |61         |\n",
            "|VA   |5      |95         |\n",
            "|NE   |5      |68         |\n",
            "|AK   |4      |57         |\n",
            "|HI   |4      |73         |\n",
            "+-----+-------+-----------+\n",
            "\n"
          ],
          "name": "stdout"
        }
      ]
    },
    {
      "cell_type": "code",
      "metadata": {
        "id": "gFIo3_Qly5qz"
      },
      "source": [
        "df4 = spark.sql(\"select state, ROUND(Churned *100 / Not_churned, 1) as Churned_percentage from (select state, sum(yes) as Churned, sum(no) as Not_churned from (for_churn_analysis) t PIVOT (count(area_code) for churn in ('yes','no')) group by state) order by Churned_percentage DESC;\")"
      ],
      "execution_count": 50,
      "outputs": []
    },
    {
      "cell_type": "code",
      "metadata": {
        "colab": {
          "base_uri": "https://localhost:8080/"
        },
        "id": "9jLaxUZMzyKD",
        "outputId": "1aabd35c-5d96-4ec9-e6f4-93b6989c72af"
      },
      "source": [
        "df4.show(5000, truncate= False)"
      ],
      "execution_count": 51,
      "outputs": [
        {
          "output_type": "stream",
          "text": [
            "+-----+------------------+\n",
            "|state|Churned_percentage|\n",
            "+-----+------------------+\n",
            "|NJ   |37.1              |\n",
            "|CA   |34.5              |\n",
            "|WA   |29.0              |\n",
            "|MD   |28.4              |\n",
            "|MT   |27.0              |\n",
            "|NV   |25.8              |\n",
            "|OK   |25.8              |\n",
            "|SC   |24.1              |\n",
            "|TX   |24.1              |\n",
            "|MS   |22.4              |\n",
            "|ME   |21.9              |\n",
            "|MN   |21.3              |\n",
            "|MI   |20.8              |\n",
            "|KS   |20.8              |\n",
            "|CT   |20.5              |\n",
            "|NY   |20.0              |\n",
            "|DE   |19.4              |\n",
            "|MA   |18.7              |\n",
            "|IN   |18.6              |\n",
            "|AR   |18.3              |\n",
            "|OR   |17.9              |\n",
            "|TN   |17.9              |\n",
            "|SD   |17.2              |\n",
            "|KY   |16.4              |\n",
            "|WV   |15.8              |\n",
            "|AL   |14.8              |\n",
            "|NM   |14.7              |\n",
            "|NH   |14.7              |\n",
            "|OH   |14.5              |\n",
            "|MO   |14.3              |\n",
            "|UT   |14.1              |\n",
            "|PA   |13.6              |\n",
            "|FL   |13.4              |\n",
            "|VT   |13.2              |\n",
            "|ID   |12.8              |\n",
            "|IA   |12.7              |\n",
            "|CO   |12.7              |\n",
            "|DC   |12.5              |\n",
            "|GA   |12.3              |\n",
            "|WY   |11.8              |\n",
            "|LA   |11.3              |\n",
            "|AZ   |10.0              |\n",
            "|ND   |9.8               |\n",
            "|NC   |9.6               |\n",
            "|IL   |8.2               |\n",
            "|WI   |8.0               |\n",
            "|NE   |7.4               |\n",
            "|RI   |7.4               |\n",
            "|AK   |7.0               |\n",
            "|HI   |5.5               |\n",
            "|VA   |5.3               |\n",
            "+-----+------------------+\n",
            "\n"
          ],
          "name": "stdout"
        }
      ]
    },
    {
      "cell_type": "code",
      "metadata": {
        "id": "2gtNuvKkaJp6"
      },
      "source": [
        "df3 = spark.sql(\"select area_code, ROUND(Churned *100 / Not_churned, 1) as Churned_percentage from (select area_code, sum(yes) as Churned, sum(no) as Not_churned from (for_churn_analysis) t PIVOT (count(state) for churn in ('yes','no')) group by area_code) order by Churned_percentage DESC;\")"
      ],
      "execution_count": 47,
      "outputs": []
    },
    {
      "cell_type": "code",
      "metadata": {
        "colab": {
          "base_uri": "https://localhost:8080/"
        },
        "id": "FjJzSDok9cqK",
        "outputId": "589e2c37-8af6-4914-d53b-788d2b65a6c0"
      },
      "source": [
        "df3.show(5000, truncate= False)"
      ],
      "execution_count": 54,
      "outputs": [
        {
          "output_type": "stream",
          "text": [
            "+-------------+------------------+\n",
            "|area_code    |Churned_percentage|\n",
            "+-------------+------------------+\n",
            "|area_code_510|17.7              |\n",
            "|area_code_408|16.3              |\n",
            "|area_code_415|15.8              |\n",
            "+-------------+------------------+\n",
            "\n"
          ],
          "name": "stdout"
        }
      ]
    },
    {
      "cell_type": "code",
      "metadata": {
        "id": "hqjYOqUcUl6V"
      },
      "source": [
        "df5 = spark.sql(\"select international_plan, ROUND(Churned *100 / Not_churned, 1) as Churned_percentage from (select international_plan, sum(yes) as Churned, sum(no) as Not_churned from (for_churn_analysis) t PIVOT (count(area_code) for churn in ('yes','no')) group by international_plan) order by Churned_percentage DESC;\")"
      ],
      "execution_count": 55,
      "outputs": []
    },
    {
      "cell_type": "code",
      "metadata": {
        "colab": {
          "base_uri": "https://localhost:8080/"
        },
        "id": "9n1byTTy_RHp",
        "outputId": "fd3f666e-4dbe-437e-86d7-ff78ec5a15f2"
      },
      "source": [
        "df5.show(5000, truncate = True)"
      ],
      "execution_count": 56,
      "outputs": [
        {
          "output_type": "stream",
          "text": [
            "+------------------+------------------+\n",
            "|international_plan|Churned_percentage|\n",
            "+------------------+------------------+\n",
            "|               yes|              72.9|\n",
            "|                no|              12.6|\n",
            "+------------------+------------------+\n",
            "\n"
          ],
          "name": "stdout"
        }
      ]
    },
    {
      "cell_type": "code",
      "metadata": {
        "id": "kh1CkpPk_RLA"
      },
      "source": [
        "df6 = spark.sql(\"select voice_mail_plan, ROUND(Churned *100 / Not_churned, 1) as Churned_percentage from (select voice_mail_plan, sum(yes) as Churned, sum(no) as Not_churned from (for_churn_analysis) t PIVOT (count(area_code) for churn in ('yes','no')) group by voice_mail_plan) order by Churned_percentage DESC;\")"
      ],
      "execution_count": 70,
      "outputs": []
    },
    {
      "cell_type": "code",
      "metadata": {
        "colab": {
          "base_uri": "https://localhost:8080/"
        },
        "id": "BPh3lB1b_2CN",
        "outputId": "060138e8-6a7d-49fb-c206-b4b1d9e6c10c"
      },
      "source": [
        "df6.show()"
      ],
      "execution_count": 71,
      "outputs": [
        {
          "output_type": "stream",
          "text": [
            "+---------------+------------------+\n",
            "|voice_mail_plan|Churned_percentage|\n",
            "+---------------+------------------+\n",
            "|             no|              19.7|\n",
            "|            yes|               8.0|\n",
            "+---------------+------------------+\n",
            "\n"
          ],
          "name": "stdout"
        }
      ]
    },
    {
      "cell_type": "code",
      "metadata": {
        "id": "T6ADEyMK_6Y1"
      },
      "source": [
        "df7 = spark.sql(\"select total_day_minutes from for_churn_analysis where churn=('yes');\")"
      ],
      "execution_count": 73,
      "outputs": []
    },
    {
      "cell_type": "code",
      "metadata": {
        "colab": {
          "base_uri": "https://localhost:8080/"
        },
        "id": "1na9QPmpDVPJ",
        "outputId": "b6155cb9-127e-45ae-a1ad-914efab91ac0"
      },
      "source": [
        "df7.show()"
      ],
      "execution_count": 74,
      "outputs": [
        {
          "output_type": "stream",
          "text": [
            "+-----------------+\n",
            "|total_day_minutes|\n",
            "+-----------------+\n",
            "|            129.1|\n",
            "|            332.9|\n",
            "|             62.4|\n",
            "|            249.6|\n",
            "|            173.1|\n",
            "|            198.4|\n",
            "|            178.9|\n",
            "|            300.3|\n",
            "|             61.6|\n",
            "|            157.9|\n",
            "|            237.9|\n",
            "|            203.4|\n",
            "|            212.1|\n",
            "|            251.8|\n",
            "|            196.8|\n",
            "|            282.5|\n",
            "|             70.7|\n",
            "|            187.5|\n",
            "|            167.1|\n",
            "|            337.4|\n",
            "+-----------------+\n",
            "only showing top 20 rows\n",
            "\n"
          ],
          "name": "stdout"
        }
      ]
    },
    {
      "cell_type": "code",
      "metadata": {
        "id": "Z6v2hUAXDbi9"
      },
      "source": [
        "df8 = spark.sql(\"select total_day_minutes from for_churn_analysis where churn=('no');\")"
      ],
      "execution_count": 75,
      "outputs": []
    },
    {
      "cell_type": "code",
      "metadata": {
        "colab": {
          "base_uri": "https://localhost:8080/"
        },
        "id": "lIeHa4GLDhoi",
        "outputId": "19ee4f50-c5fc-41ee-eb85-31555125b9bc"
      },
      "source": [
        "df8.show()"
      ],
      "execution_count": 76,
      "outputs": [
        {
          "output_type": "stream",
          "text": [
            "+-----------------+\n",
            "|total_day_minutes|\n",
            "+-----------------+\n",
            "|            161.6|\n",
            "|            243.4|\n",
            "|            299.4|\n",
            "|            166.7|\n",
            "|            218.2|\n",
            "|            157.0|\n",
            "|            184.5|\n",
            "|            258.6|\n",
            "|            187.7|\n",
            "|            128.8|\n",
            "|            156.6|\n",
            "|            196.4|\n",
            "|            189.7|\n",
            "|            224.4|\n",
            "|            155.1|\n",
            "|            183.0|\n",
            "|            110.4|\n",
            "|             81.1|\n",
            "|            213.0|\n",
            "|            134.3|\n",
            "+-----------------+\n",
            "only showing top 20 rows\n",
            "\n"
          ],
          "name": "stdout"
        }
      ]
    },
    {
      "cell_type": "code",
      "metadata": {
        "id": "BfajYQtrDlwI"
      },
      "source": [
        "df10 = df7.toPandas()"
      ],
      "execution_count": 79,
      "outputs": []
    },
    {
      "cell_type": "code",
      "metadata": {
        "id": "UD9u33eTD1dv"
      },
      "source": [
        "df11 = df8.toPandas()"
      ],
      "execution_count": 81,
      "outputs": []
    },
    {
      "cell_type": "code",
      "metadata": {
        "colab": {
          "base_uri": "https://localhost:8080/",
          "height": 497
        },
        "id": "Li-If5-2D46b",
        "outputId": "a399843b-e2e9-4aae-fdef-910a773edcc7"
      },
      "source": [
        "plt.figure(figsize=(8,8))\r\n",
        "plt.plot(df10, label= 'Churned', color= 'red')\r\n",
        "plt.plot(df11, label='Not Churned', color='green')\r\n",
        "plt.legend(framealpha=1, frameon=True)\r\n",
        "plt.xlabel('Number of customers')\r\n",
        "plt.ylabel('Total Call Time(Day)')\r\n",
        "\r\n",
        "plt.show()"
      ],
      "execution_count": 92,
      "outputs": [
        {
          "output_type": "display_data",
          "data": {
            "image/png": "[encoded data removed]",
            "text/plain": [
              "<Figure size 576x576 with 1 Axes>"
            ]
          },
          "metadata": {
            "tags": [],
            "needs_background": "light"
          }
        }
      ]
    },
    {
      "cell_type": "code",
      "metadata": {
        "id": "wGEdoHsYDly5"
      },
      "source": [
        "dataset = df.toPandas()"
      ],
      "execution_count": 93,
      "outputs": []
    },
    {
      "cell_type": "code",
      "metadata": {
        "colab": {
          "base_uri": "https://localhost:8080/",
          "height": 422
        },
        "id": "Oh48t8HZJl39",
        "outputId": "086c00a4-1e77-4dea-8645-9cc6f4ea871a"
      },
      "source": [
        "dataset"
      ],
      "execution_count": 94,
      "outputs": [
        {
          "output_type": "execute_result",
          "data": {
            "text/html": [
              "<div>\n",
              "<style scoped>\n",
              "    .dataframe tbody tr th:only-of-type {\n",
              "        vertical-align: middle;\n",
              "    }\n",
              "\n",
              "    .dataframe tbody tr th {\n",
              "        vertical-align: top;\n",
              "    }\n",
              "\n",
              "    .dataframe thead th {\n",
              "        text-align: right;\n",
              "    }\n",
              "</style>\n",
              "<table border=\"1\" class=\"dataframe\">\n",
              "  <thead>\n",
              "    <tr style=\"text-align: right;\">\n",
              "      <th></th>\n",
              "      <th>state</th>\n",
              "      <th>account_length</th>\n",
              "      <th>area_code</th>\n",
              "      <th>international_plan</th>\n",
              "      <th>voice_mail_plan</th>\n",
              "      <th>number_vmail_messages</th>\n",
              "      <th>total_day_minutes</th>\n",
              "      <th>total_day_calls</th>\n",
              "      <th>total_day_charge</th>\n",
              "      <th>total_eve_minutes</th>\n",
              "      <th>total_eve_calls</th>\n",
              "      <th>total_eve_charge</th>\n",
              "      <th>total_night_minutes</th>\n",
              "      <th>total_night_calls</th>\n",
              "      <th>total_night_charge</th>\n",
              "      <th>total_intl_minutes</th>\n",
              "      <th>total_intl_calls</th>\n",
              "      <th>total_intl_charge</th>\n",
              "      <th>number_customer_service_calls</th>\n",
              "      <th>churn</th>\n",
              "    </tr>\n",
              "  </thead>\n",
              "  <tbody>\n",
              "    <tr>\n",
              "      <th>0</th>\n",
              "      <td>OH</td>\n",
              "      <td>107</td>\n",
              "      <td>area_code_415</td>\n",
              "      <td>no</td>\n",
              "      <td>yes</td>\n",
              "      <td>26</td>\n",
              "      <td>161.6</td>\n",
              "      <td>123</td>\n",
              "      <td>27.47</td>\n",
              "      <td>195.5</td>\n",
              "      <td>103</td>\n",
              "      <td>16.62</td>\n",
              "      <td>254.4</td>\n",
              "      <td>103</td>\n",
              "      <td>11.45</td>\n",
              "      <td>13.7</td>\n",
              "      <td>3</td>\n",
              "      <td>3.70</td>\n",
              "      <td>1</td>\n",
              "      <td>no</td>\n",
              "    </tr>\n",
              "    <tr>\n",
              "      <th>1</th>\n",
              "      <td>NJ</td>\n",
              "      <td>137</td>\n",
              "      <td>area_code_415</td>\n",
              "      <td>no</td>\n",
              "      <td>no</td>\n",
              "      <td>0</td>\n",
              "      <td>243.4</td>\n",
              "      <td>114</td>\n",
              "      <td>41.38</td>\n",
              "      <td>121.2</td>\n",
              "      <td>110</td>\n",
              "      <td>10.30</td>\n",
              "      <td>162.6</td>\n",
              "      <td>104</td>\n",
              "      <td>7.32</td>\n",
              "      <td>12.2</td>\n",
              "      <td>5</td>\n",
              "      <td>3.29</td>\n",
              "      <td>0</td>\n",
              "      <td>no</td>\n",
              "    </tr>\n",
              "    <tr>\n",
              "      <th>2</th>\n",
              "      <td>OH</td>\n",
              "      <td>84</td>\n",
              "      <td>area_code_408</td>\n",
              "      <td>yes</td>\n",
              "      <td>no</td>\n",
              "      <td>0</td>\n",
              "      <td>299.4</td>\n",
              "      <td>71</td>\n",
              "      <td>50.90</td>\n",
              "      <td>61.9</td>\n",
              "      <td>88</td>\n",
              "      <td>5.26</td>\n",
              "      <td>196.9</td>\n",
              "      <td>89</td>\n",
              "      <td>8.86</td>\n",
              "      <td>6.6</td>\n",
              "      <td>7</td>\n",
              "      <td>1.78</td>\n",
              "      <td>2</td>\n",
              "      <td>no</td>\n",
              "    </tr>\n",
              "    <tr>\n",
              "      <th>3</th>\n",
              "      <td>OK</td>\n",
              "      <td>75</td>\n",
              "      <td>area_code_415</td>\n",
              "      <td>yes</td>\n",
              "      <td>no</td>\n",
              "      <td>0</td>\n",
              "      <td>166.7</td>\n",
              "      <td>113</td>\n",
              "      <td>28.34</td>\n",
              "      <td>148.3</td>\n",
              "      <td>122</td>\n",
              "      <td>12.61</td>\n",
              "      <td>186.9</td>\n",
              "      <td>121</td>\n",
              "      <td>8.41</td>\n",
              "      <td>10.1</td>\n",
              "      <td>3</td>\n",
              "      <td>2.73</td>\n",
              "      <td>3</td>\n",
              "      <td>no</td>\n",
              "    </tr>\n",
              "    <tr>\n",
              "      <th>4</th>\n",
              "      <td>MA</td>\n",
              "      <td>121</td>\n",
              "      <td>area_code_510</td>\n",
              "      <td>no</td>\n",
              "      <td>yes</td>\n",
              "      <td>24</td>\n",
              "      <td>218.2</td>\n",
              "      <td>88</td>\n",
              "      <td>37.09</td>\n",
              "      <td>348.5</td>\n",
              "      <td>108</td>\n",
              "      <td>29.62</td>\n",
              "      <td>212.6</td>\n",
              "      <td>118</td>\n",
              "      <td>9.57</td>\n",
              "      <td>7.5</td>\n",
              "      <td>7</td>\n",
              "      <td>2.03</td>\n",
              "      <td>3</td>\n",
              "      <td>no</td>\n",
              "    </tr>\n",
              "    <tr>\n",
              "      <th>...</th>\n",
              "      <td>...</td>\n",
              "      <td>...</td>\n",
              "      <td>...</td>\n",
              "      <td>...</td>\n",
              "      <td>...</td>\n",
              "      <td>...</td>\n",
              "      <td>...</td>\n",
              "      <td>...</td>\n",
              "      <td>...</td>\n",
              "      <td>...</td>\n",
              "      <td>...</td>\n",
              "      <td>...</td>\n",
              "      <td>...</td>\n",
              "      <td>...</td>\n",
              "      <td>...</td>\n",
              "      <td>...</td>\n",
              "      <td>...</td>\n",
              "      <td>...</td>\n",
              "      <td>...</td>\n",
              "      <td>...</td>\n",
              "    </tr>\n",
              "    <tr>\n",
              "      <th>4245</th>\n",
              "      <td>MT</td>\n",
              "      <td>83</td>\n",
              "      <td>area_code_415</td>\n",
              "      <td>no</td>\n",
              "      <td>no</td>\n",
              "      <td>0</td>\n",
              "      <td>188.3</td>\n",
              "      <td>70</td>\n",
              "      <td>32.01</td>\n",
              "      <td>243.8</td>\n",
              "      <td>88</td>\n",
              "      <td>20.72</td>\n",
              "      <td>213.7</td>\n",
              "      <td>79</td>\n",
              "      <td>9.62</td>\n",
              "      <td>10.3</td>\n",
              "      <td>6</td>\n",
              "      <td>2.78</td>\n",
              "      <td>0</td>\n",
              "      <td>no</td>\n",
              "    </tr>\n",
              "    <tr>\n",
              "      <th>4246</th>\n",
              "      <td>WV</td>\n",
              "      <td>73</td>\n",
              "      <td>area_code_408</td>\n",
              "      <td>no</td>\n",
              "      <td>no</td>\n",
              "      <td>0</td>\n",
              "      <td>177.9</td>\n",
              "      <td>89</td>\n",
              "      <td>30.24</td>\n",
              "      <td>131.2</td>\n",
              "      <td>82</td>\n",
              "      <td>11.15</td>\n",
              "      <td>186.2</td>\n",
              "      <td>89</td>\n",
              "      <td>8.38</td>\n",
              "      <td>11.5</td>\n",
              "      <td>6</td>\n",
              "      <td>3.11</td>\n",
              "      <td>3</td>\n",
              "      <td>no</td>\n",
              "    </tr>\n",
              "    <tr>\n",
              "      <th>4247</th>\n",
              "      <td>NC</td>\n",
              "      <td>75</td>\n",
              "      <td>area_code_408</td>\n",
              "      <td>no</td>\n",
              "      <td>no</td>\n",
              "      <td>0</td>\n",
              "      <td>170.7</td>\n",
              "      <td>101</td>\n",
              "      <td>29.02</td>\n",
              "      <td>193.1</td>\n",
              "      <td>126</td>\n",
              "      <td>16.41</td>\n",
              "      <td>129.1</td>\n",
              "      <td>104</td>\n",
              "      <td>5.81</td>\n",
              "      <td>6.9</td>\n",
              "      <td>7</td>\n",
              "      <td>1.86</td>\n",
              "      <td>1</td>\n",
              "      <td>no</td>\n",
              "    </tr>\n",
              "    <tr>\n",
              "      <th>4248</th>\n",
              "      <td>HI</td>\n",
              "      <td>50</td>\n",
              "      <td>area_code_408</td>\n",
              "      <td>no</td>\n",
              "      <td>yes</td>\n",
              "      <td>40</td>\n",
              "      <td>235.7</td>\n",
              "      <td>127</td>\n",
              "      <td>40.07</td>\n",
              "      <td>223.0</td>\n",
              "      <td>126</td>\n",
              "      <td>18.96</td>\n",
              "      <td>297.5</td>\n",
              "      <td>116</td>\n",
              "      <td>13.39</td>\n",
              "      <td>9.9</td>\n",
              "      <td>5</td>\n",
              "      <td>2.67</td>\n",
              "      <td>2</td>\n",
              "      <td>no</td>\n",
              "    </tr>\n",
              "    <tr>\n",
              "      <th>4249</th>\n",
              "      <td>VT</td>\n",
              "      <td>86</td>\n",
              "      <td>area_code_415</td>\n",
              "      <td>no</td>\n",
              "      <td>yes</td>\n",
              "      <td>34</td>\n",
              "      <td>129.4</td>\n",
              "      <td>102</td>\n",
              "      <td>22.00</td>\n",
              "      <td>267.1</td>\n",
              "      <td>104</td>\n",
              "      <td>22.70</td>\n",
              "      <td>154.8</td>\n",
              "      <td>100</td>\n",
              "      <td>6.97</td>\n",
              "      <td>9.3</td>\n",
              "      <td>16</td>\n",
              "      <td>2.51</td>\n",
              "      <td>0</td>\n",
              "      <td>no</td>\n",
              "    </tr>\n",
              "  </tbody>\n",
              "</table>\n",
              "<p>4250 rows × 20 columns</p>\n",
              "</div>"
            ],
            "text/plain": [
              "     state  account_length  ... number_customer_service_calls churn\n",
              "0       OH             107  ...                             1    no\n",
              "1       NJ             137  ...                             0    no\n",
              "2       OH              84  ...                             2    no\n",
              "3       OK              75  ...                             3    no\n",
              "4       MA             121  ...                             3    no\n",
              "...    ...             ...  ...                           ...   ...\n",
              "4245    MT              83  ...                             0    no\n",
              "4246    WV              73  ...                             3    no\n",
              "4247    NC              75  ...                             1    no\n",
              "4248    HI              50  ...                             2    no\n",
              "4249    VT              86  ...                             0    no\n",
              "\n",
              "[4250 rows x 20 columns]"
            ]
          },
          "metadata": {
            "tags": []
          },
          "execution_count": 94
        }
      ]
    },
    {
      "cell_type": "code",
      "metadata": {
        "colab": {
          "base_uri": "https://localhost:8080/"
        },
        "id": "lOTIvA-CJm_J",
        "outputId": "471edee7-7839-42da-8c80-a57b182f5825"
      },
      "source": [
        "dataset.isna().sum()"
      ],
      "execution_count": 95,
      "outputs": [
        {
          "output_type": "execute_result",
          "data": {
            "text/plain": [
              "state                            0\n",
              "account_length                   0\n",
              "area_code                        0\n",
              "international_plan               0\n",
              "voice_mail_plan                  0\n",
              "number_vmail_messages            0\n",
              "total_day_minutes                0\n",
              "total_day_calls                  0\n",
              "total_day_charge                 0\n",
              "total_eve_minutes                0\n",
              "total_eve_calls                  0\n",
              "total_eve_charge                 0\n",
              "total_night_minutes              0\n",
              "total_night_calls                0\n",
              "total_night_charge               0\n",
              "total_intl_minutes               0\n",
              "total_intl_calls                 0\n",
              "total_intl_charge                0\n",
              "number_customer_service_calls    0\n",
              "churn                            0\n",
              "dtype: int64"
            ]
          },
          "metadata": {
            "tags": []
          },
          "execution_count": 95
        }
      ]
    },
    {
      "cell_type": "code",
      "metadata": {
        "id": "f6X1b888JvA-"
      },
      "source": [
        ""
      ],
      "execution_count": null,
      "outputs": []
    },
    {
      "cell_type": "code",
      "metadata": {
        "id": "nx8D79ElDl2E"
      },
      "source": [
        ""
      ],
      "execution_count": null,
      "outputs": []
    },
    {
      "cell_type": "code",
      "metadata": {
        "id": "gMePNl9ADl4m"
      },
      "source": [
        ""
      ],
      "execution_count": null,
      "outputs": []
    },
    {
      "cell_type": "code",
      "metadata": {
        "id": "52xsnVGFDl7e"
      },
      "source": [
        ""
      ],
      "execution_count": null,
      "outputs": []
    },
    {
      "cell_type": "code",
      "metadata": {
        "id": "Cx6fnKBLDl9u"
      },
      "source": [
        ""
      ],
      "execution_count": null,
      "outputs": []
    },
    {
      "cell_type": "code",
      "metadata": {
        "id": "swbBC5XRDmAe"
      },
      "source": [
        ""
      ],
      "execution_count": null,
      "outputs": []
    },
    {
      "cell_type": "code",
      "metadata": {
        "id": "DS5HbQxtDmC1"
      },
      "source": [
        ""
      ],
      "execution_count": null,
      "outputs": []
    },
    {
      "cell_type": "code",
      "metadata": {
        "id": "jMPLCohmDmFZ"
      },
      "source": [
        ""
      ],
      "execution_count": null,
      "outputs": []
    },
    {
      "cell_type": "code",
      "metadata": {
        "id": "R6WupOtcDmIy"
      },
      "source": [
        ""
      ],
      "execution_count": null,
      "outputs": []
    },
    {
      "cell_type": "code",
      "metadata": {
        "id": "A40hUz0p_6p1"
      },
      "source": [
        "import matplotlib.pyplot as plt\r\n"
      ],
      "execution_count": 66,
      "outputs": []
    },
    {
      "cell_type": "code",
      "metadata": {
        "colab": {
          "base_uri": "https://localhost:8080/"
        },
        "id": "hG1lff-PBmb7",
        "outputId": "27fe2a36-b470-4a7c-d80e-0ab758bd54e3"
      },
      "source": [
        ""
      ],
      "execution_count": 68,
      "outputs": [
        {
          "output_type": "execute_result",
          "data": {
            "text/plain": [
              "DataFrame[voice_mail_plan: string, Churned_percentage: double]"
            ]
          },
          "metadata": {
            "tags": []
          },
          "execution_count": 68
        }
      ]
    },
    {
      "cell_type": "code",
      "metadata": {
        "id": "1wJayHiM_6xP"
      },
      "source": [
        ""
      ],
      "execution_count": null,
      "outputs": []
    },
    {
      "cell_type": "code",
      "metadata": {
        "id": "-YAuXUyU_6z6"
      },
      "source": [
        ""
      ],
      "execution_count": null,
      "outputs": []
    },
    {
      "cell_type": "code",
      "metadata": {
        "id": "P-Idnwu8_63W"
      },
      "source": [
        ""
      ],
      "execution_count": null,
      "outputs": []
    }
  ]
}